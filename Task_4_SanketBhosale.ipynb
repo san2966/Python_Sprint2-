{
 "cells": [
  {
   "cell_type": "markdown",
   "id": "7772648f",
   "metadata": {},
   "source": [
    "# Task-4:-Searching a word in a paragraph"
   ]
  },
  {
   "cell_type": "markdown",
   "id": "0bdae98a",
   "metadata": {},
   "source": [
    "-- Accept a word from the user and check if the word exist in the variablre var. print YES else NO"
   ]
  },
  {
   "cell_type": "code",
   "execution_count": null,
   "id": "7da2186c",
   "metadata": {},
   "outputs": [],
   "source": [
    "var='''Python is an interpreted, high-level, general-purpose \n",
    "programming language.Its design \n",
    "philosophy emphasizes code readability, with its use \n",
    "of significant indentation.Its language constructs as \n",
    "well as its object-oriented approch aim to help \n",
    "programmers write clear, logical code for small and \n",
    "large-scale projects.'''\n",
    "\n",
    "Input=input('enter a word ')\n",
    "if Input in var:\n",
    "    print('yes')\n",
    "else:\n",
    "    print('No')"
   ]
  }
 ],
 "metadata": {
  "kernelspec": {
   "display_name": "Python 3 (ipykernel)",
   "language": "python",
   "name": "python3"
  },
  "language_info": {
   "codemirror_mode": {
    "name": "ipython",
    "version": 3
   },
   "file_extension": ".py",
   "mimetype": "text/x-python",
   "name": "python",
   "nbconvert_exporter": "python",
   "pygments_lexer": "ipython3",
   "version": "3.9.13"
  }
 },
 "nbformat": 4,
 "nbformat_minor": 5
}
