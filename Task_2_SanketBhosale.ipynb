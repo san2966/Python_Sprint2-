{
 "cells": [
  {
   "cell_type": "markdown",
   "id": "e3562755",
   "metadata": {},
   "source": [
    "# Task-2:- Comparing two numbers"
   ]
  },
  {
   "cell_type": "markdown",
   "id": "5e0d40b7",
   "metadata": {},
   "source": [
    "-- Accept two numbers from the user and display the higher of the two numbers."
   ]
  },
  {
   "cell_type": "code",
   "execution_count": 1,
   "id": "94222d9e",
   "metadata": {},
   "outputs": [
    {
     "name": "stdout",
     "output_type": "stream",
     "text": [
      "Enter a first number1\n",
      "Enter a second number2\n",
      "A is less than B\n"
     ]
    }
   ],
   "source": [
    "a=int(input('Enter a first number'))\n",
    "b=int(input('Enter a second number'))\n",
    "if a>b:\n",
    "    print('A is greater than B')\n",
    "else:\n",
    "    print('A is less than B')"
   ]
  },
  {
   "cell_type": "code",
   "execution_count": null,
   "id": "7520a5e2",
   "metadata": {},
   "outputs": [],
   "source": []
  }
 ],
 "metadata": {
  "kernelspec": {
   "display_name": "Python 3 (ipykernel)",
   "language": "python",
   "name": "python3"
  },
  "language_info": {
   "codemirror_mode": {
    "name": "ipython",
    "version": 3
   },
   "file_extension": ".py",
   "mimetype": "text/x-python",
   "name": "python",
   "nbconvert_exporter": "python",
   "pygments_lexer": "ipython3",
   "version": "3.9.13"
  }
 },
 "nbformat": 4,
 "nbformat_minor": 5
}
