{
 "cells": [
  {
   "cell_type": "markdown",
   "id": "aec714a9",
   "metadata": {},
   "source": [
    "# Task1:- Decision-making based on user input"
   ]
  },
  {
   "cell_type": "markdown",
   "id": "3743b26c",
   "metadata": {},
   "source": [
    "-- Write a interactive decision-driven programs in python using jupyter notebook based on following tasks.\n",
    "   A=pyton\n",
    "   B=Mysql\n",
    "   c=Excel\n",
    "   else=Holiday"
   ]
  },
  {
   "cell_type": "code",
   "execution_count": 1,
   "id": "d9b8eb62",
   "metadata": {},
   "outputs": [
    {
     "name": "stdout",
     "output_type": "stream",
     "text": [
      "Enter the CharacterA\n",
      "Python\n"
     ]
    }
   ],
   "source": [
    "value=input('Enter the Character')\n",
    "if value=='A':\n",
    "    print('Python')\n",
    "elif value=='B':\n",
    "    print('Mysql')\n",
    "elif value=='C':\n",
    "    print('Excel')\n",
    "else:\n",
    "    print('Holiday')"
   ]
  }
 ],
 "metadata": {
  "kernelspec": {
   "display_name": "Python 3 (ipykernel)",
   "language": "python",
   "name": "python3"
  },
  "language_info": {
   "codemirror_mode": {
    "name": "ipython",
    "version": 3
   },
   "file_extension": ".py",
   "mimetype": "text/x-python",
   "name": "python",
   "nbconvert_exporter": "python",
   "pygments_lexer": "ipython3",
   "version": "3.9.13"
  }
 },
 "nbformat": 4,
 "nbformat_minor": 5
}
