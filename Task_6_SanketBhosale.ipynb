{
 "cells": [
  {
   "cell_type": "markdown",
   "id": "234cbdec",
   "metadata": {},
   "source": [
    "# Task-6:- Checking if an alphabet is a vowel or a consonant"
   ]
  },
  {
   "cell_type": "markdown",
   "id": "fab91e41",
   "metadata": {},
   "source": [
    "-- Accept an alphabet from the user. Display whether the alphabet entered is a vowel or a consonant."
   ]
  },
  {
   "cell_type": "code",
   "execution_count": null,
   "id": "74206c71",
   "metadata": {},
   "outputs": [],
   "source": [
    "Input=['a','e','i','o','u']\n",
    "x=input('Enter the Alphabet')\n",
    "if x in Input:\n",
    "    print('vowel')\n",
    "else:\n",
    "    print('Consonant')"
   ]
  }
 ],
 "metadata": {
  "kernelspec": {
   "display_name": "Python 3 (ipykernel)",
   "language": "python",
   "name": "python3"
  },
  "language_info": {
   "codemirror_mode": {
    "name": "ipython",
    "version": 3
   },
   "file_extension": ".py",
   "mimetype": "text/x-python",
   "name": "python",
   "nbconvert_exporter": "python",
   "pygments_lexer": "ipython3",
   "version": "3.9.13"
  }
 },
 "nbformat": 4,
 "nbformat_minor": 5
}
