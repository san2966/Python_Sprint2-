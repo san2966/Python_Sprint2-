{
 "cells": [
  {
   "cell_type": "markdown",
   "id": "94c0b8a7",
   "metadata": {},
   "source": [
    "# Task-3:- Calculating gross salary"
   ]
  },
  {
   "cell_type": "markdown",
   "id": "e0b4eac2",
   "metadata": {},
   "source": [
    "-- Create a program that accepts basic salary as input and displays the annual gross salary.\n",
    "hint:- Gross salary=[(Basic salary)+(HRA on basic salary)+(TA on basic salary)]*12"
   ]
  },
  {
   "cell_type": "code",
   "execution_count": null,
   "id": "4497ef19",
   "metadata": {},
   "outputs": [],
   "source": [
    "basic_salary = int(input(\"Enter the basic salary: \"))\n",
    "\n",
    "\n",
    "if basic_salary < 4000:\n",
    "    hra = basic_salary * 0.1\n",
    "    ta = basic_salary * 0.05\n",
    "elif basic_salary>=4001 or basic_salary <10000 :\n",
    "    hra = basic_salary * 0.1\n",
    "    ta = basic_salary * 0.1\n",
    "elif basic_salary >10000:\n",
    "    hra = basic_salary * 0.15\n",
    "    ta = basic_salary * .015\n",
    "\n",
    "\n",
    "gross_salary = (basic_salary + hra + ta) * 12\n",
    "\n",
    "print(\"Annual gross salary:\", gross_salary)\n"
   ]
  }
 ],
 "metadata": {
  "kernelspec": {
   "display_name": "Python 3 (ipykernel)",
   "language": "python",
   "name": "python3"
  },
  "language_info": {
   "codemirror_mode": {
    "name": "ipython",
    "version": 3
   },
   "file_extension": ".py",
   "mimetype": "text/x-python",
   "name": "python",
   "nbconvert_exporter": "python",
   "pygments_lexer": "ipython3",
   "version": "3.9.13"
  }
 },
 "nbformat": 4,
 "nbformat_minor": 5
}
