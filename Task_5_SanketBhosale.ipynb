{
 "cells": [
  {
   "cell_type": "markdown",
   "id": "fc4dc5ee",
   "metadata": {},
   "source": [
    "# Task-5:-Checking if a character is uppercase or lowercase"
   ]
  },
  {
   "cell_type": "markdown",
   "id": "bf7f6b1d",
   "metadata": {},
   "source": [
    "-- Accept an alphabet from the user. Display if the alphbet entered is Uppercase or Lowercase"
   ]
  },
  {
   "cell_type": "code",
   "execution_count": 1,
   "id": "4e3a8388",
   "metadata": {},
   "outputs": [
    {
     "name": "stdout",
     "output_type": "stream",
     "text": [
      "Enter the Alphabeta\n",
      "Lowercase\n"
     ]
    }
   ],
   "source": [
    "alphabet=input('Enter the Alphabet')\n",
    "if alphabet==alphabet.upper():\n",
    "    print('Uppercase')\n",
    "else:\n",
    "    print('Lowercase')"
   ]
  },
  {
   "cell_type": "code",
   "execution_count": null,
   "id": "7dc2c147",
   "metadata": {},
   "outputs": [],
   "source": []
  }
 ],
 "metadata": {
  "kernelspec": {
   "display_name": "Python 3 (ipykernel)",
   "language": "python",
   "name": "python3"
  },
  "language_info": {
   "codemirror_mode": {
    "name": "ipython",
    "version": 3
   },
   "file_extension": ".py",
   "mimetype": "text/x-python",
   "name": "python",
   "nbconvert_exporter": "python",
   "pygments_lexer": "ipython3",
   "version": "3.9.13"
  }
 },
 "nbformat": 4,
 "nbformat_minor": 5
}
